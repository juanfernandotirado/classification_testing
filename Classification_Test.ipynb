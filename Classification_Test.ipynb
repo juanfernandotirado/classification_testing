{
 "cells": [
  {
   "cell_type": "code",
   "execution_count": 3,
   "metadata": {},
   "outputs": [
    {
     "name": "stdout",
     "output_type": "stream",
     "text": [
      "Data Overview:\n",
      "   Id  SepalLengthCm  SepalWidthCm  PetalLengthCm  PetalWidthCm      Species\n",
      "0   1            5.1           3.5            1.4           0.2  Iris-setosa\n",
      "1   2            4.9           3.0            1.4           0.2  Iris-setosa\n",
      "2   3            4.7           3.2            1.3           0.2  Iris-setosa\n",
      "3   4            4.6           3.1            1.5           0.2  Iris-setosa\n",
      "4   5            5.0           3.6            1.4           0.2  Iris-setosa\n"
     ]
    }
   ],
   "source": [
    "# The first step is to import the libraries and data\n",
    "import numpy as np\n",
    "import pandas as pd\n",
    "\n",
    "iris = pd.read_csv(\"iris_data.csv\")\n",
    "\n",
    "print('Data Overview:')\n",
    "print(iris.head())"
   ]
  },
  {
   "cell_type": "code",
   "execution_count": 4,
   "metadata": {},
   "outputs": [],
   "source": [
    "# Pandas automatically give an Index to each row, so we don't need the Id column\n",
    "# iris = iris.drop('Id',axis=1)\n",
    "# print(iris.head())"
   ]
  },
  {
   "cell_type": "code",
   "execution_count": 5,
   "metadata": {},
   "outputs": [
    {
     "name": "stdout",
     "output_type": "stream",
     "text": [
      "Dataset Features:\n",
      "<class 'pandas.core.frame.DataFrame'>\n",
      "RangeIndex: 150 entries, 0 to 149\n",
      "Data columns (total 6 columns):\n",
      "Id               150 non-null int64\n",
      "SepalLengthCm    150 non-null float64\n",
      "SepalWidthCm     150 non-null float64\n",
      "PetalLengthCm    150 non-null float64\n",
      "PetalWidthCm     150 non-null float64\n",
      "Species          150 non-null object\n",
      "dtypes: float64(4), int64(1), object(1)\n",
      "memory usage: 7.2+ KB\n",
      "None\n",
      "\n",
      "Dataset Summary:\n",
      "               Id  SepalLengthCm  SepalWidthCm  PetalLengthCm  PetalWidthCm\n",
      "count  150.000000     150.000000    150.000000     150.000000    150.000000\n",
      "mean    75.500000       5.843333      3.054000       3.758667      1.198667\n",
      "std     43.445368       0.828066      0.433594       1.764420      0.763161\n",
      "min      1.000000       4.300000      2.000000       1.000000      0.100000\n",
      "25%     38.250000       5.100000      2.800000       1.600000      0.300000\n",
      "50%     75.500000       5.800000      3.000000       4.350000      1.300000\n",
      "75%    112.750000       6.400000      3.300000       5.100000      1.800000\n",
      "max    150.000000       7.900000      4.400000       6.900000      2.500000\n",
      "\n",
      "Iris Species Distribution:\n",
      "Species\n",
      "Iris-setosa        50\n",
      "Iris-versicolor    50\n",
      "Iris-virginica     50\n",
      "dtype: int64\n"
     ]
    }
   ],
   "source": [
    "#We can explore the dataset to choose the better way to work with the data\n",
    "print('Dataset Features:')\n",
    "print(iris.info())\n",
    "print()\n",
    "print('Dataset Summary:')\n",
    "print(iris.describe())\n",
    "print()\n",
    "print('Iris Species Distribution:')\n",
    "print(iris.groupby('Species').size())"
   ]
  },
  {
   "cell_type": "code",
   "execution_count": 7,
   "metadata": {},
   "outputs": [
    {
     "data": {
      "image/png": "[encoded data removed]",
      "text/plain": [
       "<Figure size 720x360 with 1 Axes>"
      ]
     },
     "metadata": {
      "needs_background": "light"
     },
     "output_type": "display_data"
    }
   ],
   "source": [
    "# We can also graph the data to visualize the results using the library Mathplotlib\n",
    "\n",
    "import matplotlib.pyplot as plt\n",
    "plt.rcParams['figure.figsize'] = [10, 5]\n",
    "\n",
    "# Select the data we want to add to the graph\n",
    "fig = iris[iris.Species=='Iris-setosa'].plot(kind='scatter', x='PetalLengthCm', y='PetalWidthCm', color='blue', label='Setosa')\n",
    "iris[iris.Species=='Iris-versicolor'].plot(kind='scatter', x='PetalLengthCm', y='PetalWidthCm', color='green', label='Versicolor', ax=fig)\n",
    "iris[iris.Species=='Iris-virginica'].plot(kind='scatter', x='PetalLengthCm', y='PetalWidthCm', color='red', label='Virginica', ax=fig)\n",
    "\n",
    "# Set the graph labels\n",
    "\n",
    "fig.set_xlabel('Petal - Lenght')\n",
    "fig.set_ylabel('Petal - Width')\n",
    "fig.set_title('Length vs Width')\n",
    "\n",
    "# Display de graph\n",
    "plt.show()"
   ]
  },
  {
   "cell_type": "code",
   "execution_count": 8,
   "metadata": {},
   "outputs": [],
   "source": [
    "# So now we can start applying the different Classification Algorithms \n",
    "# to find the more accurate one to classify an Iris flower.\n",
    "\n",
    "from sklearn.model_selection import train_test_split\n",
    "from sklearn.linear_model import LogisticRegression\n",
    "from sklearn.svm import SVC\n",
    "from sklearn.neighbors import KNeighborsClassifier\n",
    "from sklearn.tree import DecisionTreeClassifier"
   ]
  },
  {
   "cell_type": "code",
   "execution_count": 9,
   "metadata": {},
   "outputs": [],
   "source": [
    "# The first step is separating the independent variables from the dependent variable\n",
    "# and split the training and test data\n",
    "\n",
    "X = np.array(iris.drop(['Species'], 1))\n",
    "y = np.array(iris['Species'])\n",
    "\n",
    "X_train, X_test, y_train, y_test = train_test_split(X, y, test_size=0.2)"
   ]
  },
  {
   "cell_type": "code",
   "execution_count": 32,
   "metadata": {},
   "outputs": [
    {
     "name": "stdout",
     "output_type": "stream",
     "text": [
      "=== MODEL TEST RESULTS ===\n",
      "\n",
      "Logistic Regression Model Precision: 0.925\n",
      "\n",
      "Support Vector Machine Model Precision: 0.9916666666666667\n",
      "\n",
      "K-Neighbors Classifier Model Precision: 1.0\n",
      "\n",
      "Decision Tree Classifier Model Precision: 1.0\n",
      "\n"
     ]
    }
   ],
   "source": [
    "# Now we can use this variables in the differents models to calculate their pecision\n",
    "from warnings import simplefilter\n",
    "simplefilter(action='ignore', category=FutureWarning)\n",
    "\n",
    "print('=== MODEL TEST RESULTS ===')\n",
    "print()\n",
    "\n",
    "#Logistic Regression\n",
    "model1 = LogisticRegression()\n",
    "model1.fit(X_train, y_train)\n",
    "Y_pred = model1.predict(X_test)\n",
    "print('Logistic Regression Model Precision: {}'.format(model1.score(X_train, y_train)))\n",
    "print()\n",
    "\n",
    "#Support Vector Machine\n",
    "model = SVC(gamma='scale')\n",
    "model.fit(X_train, y_train)\n",
    "Y_pred = model.predict(X_test)\n",
    "print('Support Vector Machine Model Precision: {}'.format(model.score(X_train, y_train)))\n",
    "print()\n",
    "\n",
    "#K-Neighbors Classifier\n",
    "model = KNeighborsClassifier()\n",
    "model.fit(X_train, y_train)\n",
    "Y_pred = model.predict(X_test)\n",
    "print('K-Neighbors Classifier Model Precision: {}'.format(model.score(X_train, y_train)))\n",
    "print()\n",
    "\n",
    "#Decision Tree Classifier\n",
    "model2 = DecisionTreeClassifier()\n",
    "model2.fit(X_train, y_train)\n",
    "Y_pred = model2.predict(X_test)\n",
    "print('Decision Tree Classifier Model Precision: {}'.format(model2.score(X_train, y_train)))\n",
    "print()"
   ]
  },
  {
   "cell_type": "code",
   "execution_count": null,
   "metadata": {},
   "outputs": [],
   "source": []
  }
 ],
 "metadata": {
  "kernelspec": {
   "display_name": "Python 3",
   "language": "python",
   "name": "python3"
  },
  "language_info": {
   "codemirror_mode": {
    "name": "ipython",
    "version": 3
   },
   "file_extension": ".py",
   "mimetype": "text/x-python",
   "name": "python",
   "nbconvert_exporter": "python",
   "pygments_lexer": "ipython3",
   "version": "3.7.4"
  }
 },
 "nbformat": 4,
 "nbformat_minor": 2
}
